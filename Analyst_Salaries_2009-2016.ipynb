{
 "cells": [
  {
   "cell_type": "code",
   "execution_count": 1,
   "id": "9e19d379",
   "metadata": {},
   "outputs": [],
   "source": [
    "from sklearn.metrics import r2_score\n",
    "from sklearn.model_selection import train_test_split\n",
    "from sklearn.preprocessing import OneHotEncoder,OrdinalEncoder,StandardScaler\n",
    "from sklearn.compose import ColumnTransformer\n",
    "from sklearn.pipeline import Pipeline\n",
    "from sklearn.linear_model import LinearRegression, LogisticRegression\n",
    "from sklearn.neighbors import KNeighborsRegressor\n",
    "from sklearn.ensemble import RandomForestRegressor, GradientBoostingRegressor\n",
    "from sklearn.tree import DecisionTreeRegressor\n",
    "import pandas as pd\n",
    "import matplotlib.pyplot as plt\n",
    "import seaborn as sns"
   ]
  },
  {
   "cell_type": "code",
   "execution_count": null,
   "id": "09ec5271",
   "metadata": {},
   "outputs": [],
   "source": [
    "# Data sourced from: https://www.kaggle.com/datasets/namangarg2075/data-profession-salary-trends-2009-2016/code"
   ]
  },
  {
   "cell_type": "code",
   "execution_count": 2,
   "id": "c78af471",
   "metadata": {},
   "outputs": [],
   "source": [
    "salary_data = pd.read_csv('datasets/cleaned_data.csv')"
   ]
  },
  {
   "cell_type": "code",
   "execution_count": 3,
   "id": "bf289c7e",
   "metadata": {},
   "outputs": [
    {
     "data": {
      "text/html": [
       "<div>\n",
       "<style scoped>\n",
       "    .dataframe tbody tr th:only-of-type {\n",
       "        vertical-align: middle;\n",
       "    }\n",
       "\n",
       "    .dataframe tbody tr th {\n",
       "        vertical-align: top;\n",
       "    }\n",
       "\n",
       "    .dataframe thead th {\n",
       "        text-align: right;\n",
       "    }\n",
       "</style>\n",
       "<table border=\"1\" class=\"dataframe\">\n",
       "  <thead>\n",
       "    <tr style=\"text-align: right;\">\n",
       "      <th></th>\n",
       "      <th>FIRST NAME</th>\n",
       "      <th>LAST NAME</th>\n",
       "      <th>SEX</th>\n",
       "      <th>DOJ</th>\n",
       "      <th>CURRENT DATE</th>\n",
       "      <th>DESIGNATION</th>\n",
       "      <th>AGE</th>\n",
       "      <th>UNIT</th>\n",
       "      <th>LEAVES USED</th>\n",
       "      <th>LEAVES REMAINING</th>\n",
       "      <th>RATINGS</th>\n",
       "      <th>PAST EXP</th>\n",
       "      <th>SALARY</th>\n",
       "      <th>DAY</th>\n",
       "      <th>DAY NAME</th>\n",
       "      <th>MONTH</th>\n",
       "      <th>YEAR</th>\n",
       "    </tr>\n",
       "  </thead>\n",
       "  <tbody>\n",
       "    <tr>\n",
       "      <th>0</th>\n",
       "      <td>TOMASA</td>\n",
       "      <td>ARMEN</td>\n",
       "      <td>F</td>\n",
       "      <td>2014-05-18</td>\n",
       "      <td>2016-01-07</td>\n",
       "      <td>Analyst</td>\n",
       "      <td>21.0</td>\n",
       "      <td>Finance</td>\n",
       "      <td>24</td>\n",
       "      <td>6</td>\n",
       "      <td>2.0</td>\n",
       "      <td>0</td>\n",
       "      <td>44570</td>\n",
       "      <td>18</td>\n",
       "      <td>Sunday</td>\n",
       "      <td>5</td>\n",
       "      <td>2014</td>\n",
       "    </tr>\n",
       "    <tr>\n",
       "      <th>1</th>\n",
       "      <td>OLIVE</td>\n",
       "      <td>ANCY</td>\n",
       "      <td>F</td>\n",
       "      <td>2014-07-28</td>\n",
       "      <td>2016-01-07</td>\n",
       "      <td>Analyst</td>\n",
       "      <td>21.0</td>\n",
       "      <td>Finance</td>\n",
       "      <td>23</td>\n",
       "      <td>7</td>\n",
       "      <td>3.0</td>\n",
       "      <td>0</td>\n",
       "      <td>40955</td>\n",
       "      <td>28</td>\n",
       "      <td>Monday</td>\n",
       "      <td>7</td>\n",
       "      <td>2014</td>\n",
       "    </tr>\n",
       "    <tr>\n",
       "      <th>2</th>\n",
       "      <td>CHERRY</td>\n",
       "      <td>AQUILAR</td>\n",
       "      <td>F</td>\n",
       "      <td>2013-04-03</td>\n",
       "      <td>2016-01-07</td>\n",
       "      <td>Analyst</td>\n",
       "      <td>22.0</td>\n",
       "      <td>IT</td>\n",
       "      <td>22</td>\n",
       "      <td>8</td>\n",
       "      <td>3.0</td>\n",
       "      <td>0</td>\n",
       "      <td>45550</td>\n",
       "      <td>3</td>\n",
       "      <td>Wednesday</td>\n",
       "      <td>4</td>\n",
       "      <td>2013</td>\n",
       "    </tr>\n",
       "  </tbody>\n",
       "</table>\n",
       "</div>"
      ],
      "text/plain": [
       "  FIRST NAME LAST NAME SEX         DOJ CURRENT DATE DESIGNATION   AGE  \\\n",
       "0     TOMASA     ARMEN   F  2014-05-18   2016-01-07     Analyst  21.0   \n",
       "1      OLIVE      ANCY   F  2014-07-28   2016-01-07     Analyst  21.0   \n",
       "2     CHERRY   AQUILAR   F  2013-04-03   2016-01-07     Analyst  22.0   \n",
       "\n",
       "      UNIT  LEAVES USED  LEAVES REMAINING  RATINGS  PAST EXP  SALARY  DAY  \\\n",
       "0  Finance           24                 6      2.0         0   44570   18   \n",
       "1  Finance           23                 7      3.0         0   40955   28   \n",
       "2       IT           22                 8      3.0         0   45550    3   \n",
       "\n",
       "    DAY NAME  MONTH  YEAR  \n",
       "0     Sunday      5  2014  \n",
       "1     Monday      7  2014  \n",
       "2  Wednesday      4  2013  "
      ]
     },
     "execution_count": 3,
     "metadata": {},
     "output_type": "execute_result"
    }
   ],
   "source": [
    "salary_data.head(3)"
   ]
  },
  {
   "cell_type": "code",
   "execution_count": 4,
   "id": "5ea1563f",
   "metadata": {},
   "outputs": [],
   "source": [
    "it_salary_data = salary_data[salary_data['UNIT'] == 'IT']"
   ]
  },
  {
   "cell_type": "code",
   "execution_count": 5,
   "id": "0bdba233",
   "metadata": {},
   "outputs": [],
   "source": [
    "it_salary_experienced = it_salary_data[it_salary_data['PAST EXP'] > 2]"
   ]
  },
  {
   "cell_type": "code",
   "execution_count": 6,
   "id": "a9ad300e",
   "metadata": {},
   "outputs": [
    {
     "name": "stderr",
     "output_type": "stream",
     "text": [
      "C:\\Users\\bourb\\AppData\\Local\\Temp\\ipykernel_21412\\1273184617.py:1: UserWarning: Boolean Series key will be reindexed to match DataFrame index.\n",
      "  it_salary_experienced = it_salary_experienced[it_salary_data['PAST EXP'] <= 5]\n"
     ]
    }
   ],
   "source": [
    "it_salary_experienced = it_salary_experienced[it_salary_data['PAST EXP'] <= 5]"
   ]
  },
  {
   "cell_type": "code",
   "execution_count": 7,
   "id": "45065b35",
   "metadata": {},
   "outputs": [
    {
     "data": {
      "text/html": [
       "<div>\n",
       "<style scoped>\n",
       "    .dataframe tbody tr th:only-of-type {\n",
       "        vertical-align: middle;\n",
       "    }\n",
       "\n",
       "    .dataframe tbody tr th {\n",
       "        vertical-align: top;\n",
       "    }\n",
       "\n",
       "    .dataframe thead th {\n",
       "        text-align: right;\n",
       "    }\n",
       "</style>\n",
       "<table border=\"1\" class=\"dataframe\">\n",
       "  <thead>\n",
       "    <tr style=\"text-align: right;\">\n",
       "      <th></th>\n",
       "      <th>AGE</th>\n",
       "      <th>LEAVES USED</th>\n",
       "      <th>LEAVES REMAINING</th>\n",
       "      <th>RATINGS</th>\n",
       "      <th>PAST EXP</th>\n",
       "      <th>SALARY</th>\n",
       "      <th>DAY</th>\n",
       "      <th>MONTH</th>\n",
       "      <th>YEAR</th>\n",
       "    </tr>\n",
       "  </thead>\n",
       "  <tbody>\n",
       "    <tr>\n",
       "      <th>count</th>\n",
       "      <td>45.000000</td>\n",
       "      <td>45.000000</td>\n",
       "      <td>45.000000</td>\n",
       "      <td>45.000000</td>\n",
       "      <td>45.000000</td>\n",
       "      <td>45.000000</td>\n",
       "      <td>45.000000</td>\n",
       "      <td>45.000000</td>\n",
       "      <td>45.000000</td>\n",
       "    </tr>\n",
       "    <tr>\n",
       "      <th>mean</th>\n",
       "      <td>27.488889</td>\n",
       "      <td>21.688889</td>\n",
       "      <td>8.311111</td>\n",
       "      <td>3.288889</td>\n",
       "      <td>3.511111</td>\n",
       "      <td>66263.000000</td>\n",
       "      <td>17.511111</td>\n",
       "      <td>6.844444</td>\n",
       "      <td>2013.533333</td>\n",
       "    </tr>\n",
       "    <tr>\n",
       "      <th>std</th>\n",
       "      <td>2.702038</td>\n",
       "      <td>4.389151</td>\n",
       "      <td>4.389151</td>\n",
       "      <td>1.100046</td>\n",
       "      <td>0.726831</td>\n",
       "      <td>24310.869351</td>\n",
       "      <td>8.973755</td>\n",
       "      <td>3.592641</td>\n",
       "      <td>1.035725</td>\n",
       "    </tr>\n",
       "    <tr>\n",
       "      <th>min</th>\n",
       "      <td>25.000000</td>\n",
       "      <td>15.000000</td>\n",
       "      <td>0.000000</td>\n",
       "      <td>2.000000</td>\n",
       "      <td>3.000000</td>\n",
       "      <td>40261.000000</td>\n",
       "      <td>2.000000</td>\n",
       "      <td>1.000000</td>\n",
       "      <td>2011.000000</td>\n",
       "    </tr>\n",
       "    <tr>\n",
       "      <th>25%</th>\n",
       "      <td>25.000000</td>\n",
       "      <td>18.000000</td>\n",
       "      <td>5.000000</td>\n",
       "      <td>2.000000</td>\n",
       "      <td>3.000000</td>\n",
       "      <td>47590.000000</td>\n",
       "      <td>10.000000</td>\n",
       "      <td>4.000000</td>\n",
       "      <td>2013.000000</td>\n",
       "    </tr>\n",
       "    <tr>\n",
       "      <th>50%</th>\n",
       "      <td>27.000000</td>\n",
       "      <td>22.000000</td>\n",
       "      <td>8.000000</td>\n",
       "      <td>3.000000</td>\n",
       "      <td>3.000000</td>\n",
       "      <td>56728.000000</td>\n",
       "      <td>17.000000</td>\n",
       "      <td>8.000000</td>\n",
       "      <td>2014.000000</td>\n",
       "    </tr>\n",
       "    <tr>\n",
       "      <th>75%</th>\n",
       "      <td>29.000000</td>\n",
       "      <td>25.000000</td>\n",
       "      <td>12.000000</td>\n",
       "      <td>4.000000</td>\n",
       "      <td>4.000000</td>\n",
       "      <td>85615.000000</td>\n",
       "      <td>25.000000</td>\n",
       "      <td>10.000000</td>\n",
       "      <td>2014.000000</td>\n",
       "    </tr>\n",
       "    <tr>\n",
       "      <th>max</th>\n",
       "      <td>33.000000</td>\n",
       "      <td>30.000000</td>\n",
       "      <td>15.000000</td>\n",
       "      <td>5.000000</td>\n",
       "      <td>5.000000</td>\n",
       "      <td>126181.000000</td>\n",
       "      <td>31.000000</td>\n",
       "      <td>12.000000</td>\n",
       "      <td>2015.000000</td>\n",
       "    </tr>\n",
       "  </tbody>\n",
       "</table>\n",
       "</div>"
      ],
      "text/plain": [
       "             AGE  LEAVES USED  LEAVES REMAINING    RATINGS   PAST EXP  \\\n",
       "count  45.000000    45.000000         45.000000  45.000000  45.000000   \n",
       "mean   27.488889    21.688889          8.311111   3.288889   3.511111   \n",
       "std     2.702038     4.389151          4.389151   1.100046   0.726831   \n",
       "min    25.000000    15.000000          0.000000   2.000000   3.000000   \n",
       "25%    25.000000    18.000000          5.000000   2.000000   3.000000   \n",
       "50%    27.000000    22.000000          8.000000   3.000000   3.000000   \n",
       "75%    29.000000    25.000000         12.000000   4.000000   4.000000   \n",
       "max    33.000000    30.000000         15.000000   5.000000   5.000000   \n",
       "\n",
       "              SALARY        DAY      MONTH         YEAR  \n",
       "count      45.000000  45.000000  45.000000    45.000000  \n",
       "mean    66263.000000  17.511111   6.844444  2013.533333  \n",
       "std     24310.869351   8.973755   3.592641     1.035725  \n",
       "min     40261.000000   2.000000   1.000000  2011.000000  \n",
       "25%     47590.000000  10.000000   4.000000  2013.000000  \n",
       "50%     56728.000000  17.000000   8.000000  2014.000000  \n",
       "75%     85615.000000  25.000000  10.000000  2014.000000  \n",
       "max    126181.000000  31.000000  12.000000  2015.000000  "
      ]
     },
     "execution_count": 7,
     "metadata": {},
     "output_type": "execute_result"
    }
   ],
   "source": [
    "it_salary_experienced.describe()"
   ]
  },
  {
   "cell_type": "code",
   "execution_count": 8,
   "id": "44b6522a",
   "metadata": {},
   "outputs": [],
   "source": [
    "ten_percent = (it_salary_experienced['SALARY'].max() - it_salary_experienced['SALARY'].min()) / 10"
   ]
  },
  {
   "cell_type": "code",
   "execution_count": 9,
   "id": "43f837ae",
   "metadata": {},
   "outputs": [],
   "source": [
    "base = float(it_salary_experienced['SALARY'].min())\n",
    "\n",
    "salary_bins = [base]\n",
    "\n",
    "while len(salary_bins) < 11:\n",
    "    base += ten_percent\n",
    "    salary_bins.append(base)"
   ]
  },
  {
   "cell_type": "code",
   "execution_count": 10,
   "id": "8bbef774",
   "metadata": {},
   "outputs": [
    {
     "data": {
      "text/plain": [
       "[40261.0,\n",
       " 48853.0,\n",
       " 57445.0,\n",
       " 66037.0,\n",
       " 74629.0,\n",
       " 83221.0,\n",
       " 91813.0,\n",
       " 100405.0,\n",
       " 108997.0,\n",
       " 117589.0,\n",
       " 126181.0]"
      ]
     },
     "execution_count": 10,
     "metadata": {},
     "output_type": "execute_result"
    }
   ],
   "source": [
    "salary_bins"
   ]
  },
  {
   "cell_type": "code",
   "execution_count": 11,
   "id": "d371a8ba",
   "metadata": {},
   "outputs": [
    {
     "name": "stderr",
     "output_type": "stream",
     "text": [
      "C:\\Users\\bourb\\AppData\\Local\\Temp\\ipykernel_21412\\1596932444.py:3: FutureWarning: The default of observed=False is deprecated and will be changed to True in a future version of pandas. Pass observed=False to retain current behavior or observed=True to adopt the future default and silence this warning.\n",
      "  bar_data = it_salary_experienced[['binned', 'SALARY']].groupby('binned').count()\n"
     ]
    },
    {
     "data": {
      "text/html": [
       "<div>\n",
       "<style scoped>\n",
       "    .dataframe tbody tr th:only-of-type {\n",
       "        vertical-align: middle;\n",
       "    }\n",
       "\n",
       "    .dataframe tbody tr th {\n",
       "        vertical-align: top;\n",
       "    }\n",
       "\n",
       "    .dataframe thead th {\n",
       "        text-align: right;\n",
       "    }\n",
       "</style>\n",
       "<table border=\"1\" class=\"dataframe\">\n",
       "  <thead>\n",
       "    <tr style=\"text-align: right;\">\n",
       "      <th></th>\n",
       "      <th>Count</th>\n",
       "    </tr>\n",
       "    <tr>\n",
       "      <th>binned</th>\n",
       "      <th></th>\n",
       "    </tr>\n",
       "  </thead>\n",
       "  <tbody>\n",
       "    <tr>\n",
       "      <th>(40261.0, 48853.0]</th>\n",
       "      <td>13</td>\n",
       "    </tr>\n",
       "    <tr>\n",
       "      <th>(48853.0, 57445.0]</th>\n",
       "      <td>9</td>\n",
       "    </tr>\n",
       "    <tr>\n",
       "      <th>(57445.0, 66037.0]</th>\n",
       "      <td>6</td>\n",
       "    </tr>\n",
       "    <tr>\n",
       "      <th>(66037.0, 74629.0]</th>\n",
       "      <td>1</td>\n",
       "    </tr>\n",
       "    <tr>\n",
       "      <th>(74629.0, 83221.0]</th>\n",
       "      <td>3</td>\n",
       "    </tr>\n",
       "    <tr>\n",
       "      <th>(83221.0, 91813.0]</th>\n",
       "      <td>4</td>\n",
       "    </tr>\n",
       "    <tr>\n",
       "      <th>(91813.0, 100405.0]</th>\n",
       "      <td>4</td>\n",
       "    </tr>\n",
       "    <tr>\n",
       "      <th>(100405.0, 108997.0]</th>\n",
       "      <td>1</td>\n",
       "    </tr>\n",
       "    <tr>\n",
       "      <th>(108997.0, 117589.0]</th>\n",
       "      <td>0</td>\n",
       "    </tr>\n",
       "    <tr>\n",
       "      <th>(117589.0, 126181.0]</th>\n",
       "      <td>3</td>\n",
       "    </tr>\n",
       "  </tbody>\n",
       "</table>\n",
       "</div>"
      ],
      "text/plain": [
       "                      Count\n",
       "binned                     \n",
       "(40261.0, 48853.0]       13\n",
       "(48853.0, 57445.0]        9\n",
       "(57445.0, 66037.0]        6\n",
       "(66037.0, 74629.0]        1\n",
       "(74629.0, 83221.0]        3\n",
       "(83221.0, 91813.0]        4\n",
       "(91813.0, 100405.0]       4\n",
       "(100405.0, 108997.0]      1\n",
       "(108997.0, 117589.0]      0\n",
       "(117589.0, 126181.0]      3"
      ]
     },
     "execution_count": 11,
     "metadata": {},
     "output_type": "execute_result"
    }
   ],
   "source": [
    "it_salary_experienced['binned'] = pd.cut(it_salary_experienced['SALARY'], bins=salary_bins)\n",
    "\n",
    "bar_data = it_salary_experienced[['binned', 'SALARY']].groupby('binned').count()\n",
    "\n",
    "bar_data = bar_data.rename(columns = {'SALARY':'Count'})\n",
    "\n",
    "bar_data"
   ]
  },
  {
   "cell_type": "code",
   "execution_count": 12,
   "id": "b5654166",
   "metadata": {},
   "outputs": [
    {
     "data": {
      "image/png": "[encoded data removed]",
      "text/plain": [
       "<Figure size 800x600 with 1 Axes>"
      ]
     },
     "metadata": {},
     "output_type": "display_data"
    }
   ],
   "source": [
    "data = bar_data\n",
    "\n",
    "fig, ax = plt.subplots(figsize=(8, 6))\n",
    "data.plot.bar(ax=ax, legend=False)\n",
    "\n",
    "ax.set_title('IT Analyst With 2-5 Years Experience Salaries 2009-2016')\n",
    "ax.set_xlabel('Salary Bin')\n",
    "ax.set_ylabel('Count')\n",
    "ax.tick_params(rotation=45)\n",
    "\n",
    "plt.show()"
   ]
  },
  {
   "cell_type": "code",
   "execution_count": 13,
   "id": "3118cd74",
   "metadata": {},
   "outputs": [],
   "source": [
    "heat_data = salary_data.drop(columns=['LEAVES USED', 'LEAVES REMAINING', 'DAY', 'MONTH', 'YEAR'])"
   ]
  },
  {
   "cell_type": "code",
   "execution_count": 14,
   "id": "af89eb0e",
   "metadata": {},
   "outputs": [
    {
     "data": {
      "image/png": "[encoded data removed]",
      "text/plain": [
       "<Figure size 832x624 with 2 Axes>"
      ]
     },
     "metadata": {},
     "output_type": "display_data"
    }
   ],
   "source": [
    "numerical_columns = heat_data.select_dtypes(include=['int64', 'float64']).columns\n",
    "\n",
    "# Calculate correlation matrix for numerical columns\n",
    "corr = heat_data[numerical_columns].corr()\n",
    "\n",
    "# Plot correlation heatmap\n",
    "plt.figure(dpi=130)\n",
    "sns.heatmap(corr, annot=True, fmt='.2f')\n",
    "plt.title('Correlation Heatmap')\n",
    "plt.show()"
   ]
  },
  {
   "cell_type": "code",
   "execution_count": 15,
   "id": "8ad25303",
   "metadata": {},
   "outputs": [
    {
     "name": "stdout",
     "output_type": "stream",
     "text": [
      "<class 'pandas.core.frame.DataFrame'>\n",
      "Index: 2473 entries, 0 to 2476\n",
      "Data columns (total 6 columns):\n",
      " #   Column       Non-Null Count  Dtype  \n",
      "---  ------       --------------  -----  \n",
      " 0   SEX          2473 non-null   object \n",
      " 1   DESIGNATION  2473 non-null   object \n",
      " 2   UNIT         2473 non-null   object \n",
      " 3   RATINGS      2473 non-null   float64\n",
      " 4   SALARY       2473 non-null   int64  \n",
      " 5   TOTAL_EXP    2473 non-null   float64\n",
      "dtypes: float64(2), int64(1), object(3)\n",
      "memory usage: 135.2+ KB\n"
     ]
    }
   ],
   "source": [
    "salary_data['DOJ'] = pd.to_datetime(salary_data['DOJ'])\n",
    "salary_data['CURRENT DATE'] = pd.to_datetime(salary_data['CURRENT DATE'])\n",
    "\n",
    "salary_data['TENURE'] = (salary_data['CURRENT DATE'] - salary_data['DOJ']).dt.days // 365.25\n",
    "salary_data['TOTAL_EXP'] = salary_data['PAST EXP'] + salary_data['TENURE']\n",
    "\n",
    "\n",
    "salary_data = salary_data.drop(columns=['DOJ', 'CURRENT DATE','FIRST NAME','LAST NAME','LEAVES REMAINING','PAST EXP','TENURE',\n",
    "                                        'AGE','LEAVES USED', 'DAY', 'DAY NAME', 'MONTH', 'YEAR'])\n",
    "salary_data = salary_data.dropna()\n",
    "model_data = salary_data.drop_duplicates()\n",
    "model_data.info()"
   ]
  },
  {
   "cell_type": "code",
   "execution_count": 16,
   "id": "49e4428b",
   "metadata": {},
   "outputs": [],
   "source": [
    "X_train, X_test, y_train, y_test = train_test_split(model_data.drop(columns=[\"SALARY\"]),model_data[\"SALARY\"], test_size=0.2, random_state=42)"
   ]
  },
  {
   "cell_type": "code",
   "execution_count": 17,
   "id": "b53c2499",
   "metadata": {},
   "outputs": [
    {
     "name": "stdout",
     "output_type": "stream",
     "text": [
      "Linear Regression R2 Score: 0.8318238230627176\n",
      "Logistic Regression R2 Score: 0.6660777892824767\n",
      "K-Nearest Neighbors Regression R2 Score: 0.8923725318770228\n",
      "Decision Tree Regression R2 Score: 0.8927738852491887\n",
      "Random Forest Regression R2 Score: 0.9534920638606139\n",
      "Gradient Boosting Regression R2 Score: 0.9501696826696266\n"
     ]
    }
   ],
   "source": [
    "s1 = ColumnTransformer([\n",
    "    ('ord', OrdinalEncoder(categories=[['Analyst', 'Associate', 'Senior Analyst', 'Manager', 'Senior Manager', 'Director']]), ['DESIGNATION']),\n",
    "    ('onehot', OneHotEncoder(), ['UNIT', 'SEX'])\n",
    "], remainder='passthrough')\n",
    "\n",
    "s3 = ColumnTransformer([\n",
    "    ('Scale', StandardScaler(), slice(0,122))\n",
    "], remainder=\"passthrough\")\n",
    "# List of models to evaluate\n",
    "models = {\n",
    "    \"Linear Regression\": LinearRegression(),\n",
    "    \"Logistic Regression\": LogisticRegression(max_iter=1000),\n",
    "    \"K-Nearest Neighbors Regression\": KNeighborsRegressor(),\n",
    "    \"Decision Tree Regression\": DecisionTreeRegressor(),\n",
    "    \"Random Forest Regression\": RandomForestRegressor(),\n",
    "    \"Gradient Boosting Regression\": GradientBoostingRegressor()\n",
    "}\n",
    "\n",
    "# Fit and evaluate each model\n",
    "for name, model in models.items():\n",
    "    pipeline = Pipeline([\n",
    "        (\"s1\", s1),\n",
    "        (\"s2\", model),\n",
    "    ])\n",
    "    pipeline.fit(X_train, y_train)\n",
    "    y_pred = pipeline.predict(X_test)\n",
    "    r2 = r2_score(y_test, y_pred)\n",
    "    print(f\"{name} R2 Score: {r2}\")"
   ]
  },
  {
   "cell_type": "code",
   "execution_count": 18,
   "id": "38460163",
   "metadata": {},
   "outputs": [
    {
     "name": "stdout",
     "output_type": "stream",
     "text": [
      "R2 Score: 0.9574458326628773\n"
     ]
    }
   ],
   "source": [
    "s2 = RandomForestRegressor(\n",
    "    n_estimators=100,\n",
    "    max_depth=20,\n",
    "    min_samples_split=2,\n",
    "    min_samples_leaf=4\n",
    ")\n",
    "\n",
    "model = Pipeline([\n",
    "    (\"s1\", s1),\n",
    "    (\"s2\", s2),\n",
    "])\n",
    "\n",
    "model.fit(X_train, y_train)\n",
    "\n",
    "y_pred = model.predict(X_test)\n",
    "\n",
    "r2 = r2_score(y_test, y_pred)\n",
    "\n",
    "print(\"R2 Score:\", r2)"
   ]
  },
  {
   "cell_type": "code",
   "execution_count": 19,
   "id": "d83d4523",
   "metadata": {},
   "outputs": [
    {
     "name": "stdout",
     "output_type": "stream",
     "text": [
      "Predicted Salary: 91731.18411774334\n"
     ]
    }
   ],
   "source": [
    "input_data = pd.DataFrame({\n",
    "        'NAME': [\"Matt\"],\n",
    "        'AGE': [40],\n",
    "        'SEX': [\"M\"],\n",
    "        'DESIGNATION': [\"Associate\"],\n",
    "        'UNIT': [\"IT\"],\n",
    "        'PAST_EXP': [2],\n",
    "        'RATINGS': [4.0],\n",
    "        'DOJ': [\"2024-09-01\"]\n",
    "    })\n",
    "\n",
    "def preprocess_input(df):\n",
    "\n",
    "    df['DOJ'] = pd.to_datetime(df['DOJ'])\n",
    "    df['CURRENT DATE'] = pd.to_datetime('2024-08-24')\n",
    "\n",
    "    df['TENURE'] = (df['CURRENT DATE'] - df['DOJ']).dt.days // 365.25\n",
    "    df['TOTAL_EXP'] = df['PAST_EXP'] + df['TENURE']\n",
    "    df = df.drop(columns=['DOJ', 'CURRENT DATE', 'NAME', 'PAST_EXP', 'TENURE', 'AGE'])\n",
    "    total_experience=int(df['TOTAL_EXP'][0])\n",
    "    \n",
    "    return df\n",
    "\n",
    "def predict_salary(data):\n",
    "    preprocessed_data = preprocess_input(data)\n",
    "\n",
    "    salary = model.predict(preprocessed_data)\n",
    "    return salary\n",
    "\n",
    "salary_prediction = predict_salary(input_data)\n",
    "print(f'Predicted Salary: {salary_prediction[0]}')"
   ]
  },
  {
   "cell_type": "code",
   "execution_count": null,
   "id": "1e3f992c",
   "metadata": {},
   "outputs": [],
   "source": []
  }
 ],
 "metadata": {
  "kernelspec": {
   "display_name": "Python 3 (ipykernel)",
   "language": "python",
   "name": "python3"
  },
  "language_info": {
   "codemirror_mode": {
    "name": "ipython",
    "version": 3
   },
   "file_extension": ".py",
   "mimetype": "text/x-python",
   "name": "python",
   "nbconvert_exporter": "python",
   "pygments_lexer": "ipython3",
   "version": "3.11.7"
  }
 },
 "nbformat": 4,
 "nbformat_minor": 5
}
